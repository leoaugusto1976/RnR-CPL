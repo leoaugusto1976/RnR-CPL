{
 "cells": [
  {
   "cell_type": "code",
   "execution_count": 1,
   "id": "29be6869-bc08-4ea8-995c-5c50b31d2c1f",
   "metadata": {
    "tags": []
   },
   "outputs": [],
   "source": [
    "import requests\n",
    "from bs4 import BeautifulSoup\n",
    "from selenium.webdriver import Chrome\n",
    "from selenium.webdriver.chrome.options import Options\n",
    "\n",
    "from selenium.common.exceptions import TimeoutException\n",
    "from selenium.webdriver.support.ui import WebDriverWait\n",
    "from selenium.webdriver.support import expected_conditions as EC\n",
    "from selenium.webdriver.common.by import By\n",
    "\n",
    "url = 'https://canpl.ca/statistics/teams/2022/'\n",
    "\n",
    "excel_filename = 'CPL_2022.xlsx'\n",
    "\n",
    "chrome_options = Options()  \n",
    "chrome_options.add_argument(\"--headless\") # Opens the browser up in background\n",
    "\n",
    "browser = Chrome(options=chrome_options, executable_path='C:\\ChromeDriver\\chromedriver118\\chromedriver.exe')\n",
    "browser.get(url)\n",
    "timeout = 5\n",
    "try:\n",
    "     element_present = EC.presence_of_element_located((By.TAG_NAME, 'table'))\n",
    "     WebDriverWait(browser, timeout).until(element_present)\n",
    "     html = browser.page_source\n",
    "     page_soup = BeautifulSoup(html, 'html.parser')\n",
    "     table = page_soup.findAll('table', {'class': 'stats-data-table table'})\n",
    "except TimeoutException:\n",
    "     print(\"Timed out waiting for page to load\")"
   ]
  },
  {
   "cell_type": "code",
   "execution_count": 2,
   "id": "5e7a8a81-aaa6-4d25-bc61-6137d1d3a0f4",
   "metadata": {
    "tags": []
   },
   "outputs": [],
   "source": [
    "theader = table[0].find('thead')\n",
    "headers = []\n",
    "for i in theader.find_all('th'):\n",
    "    title = i.text\n",
    "    headers.append(title)\n",
    "# removed the first two columns because they are not needed\n",
    "headers = headers[2:]"
   ]
  },
  {
   "cell_type": "code",
   "execution_count": 3,
   "id": "bde3da8d",
   "metadata": {},
   "outputs": [],
   "source": [
    "def get_team_name(team):\n",
    "    for team_name in team:\n",
    "        if 'cav' in team_name:\n",
    "            return 'Calvary FC'\n",
    "        elif 'ato' in team_name:\n",
    "            return 'Atletico Ottawa'\n",
    "        elif 'for' in team_name:\n",
    "            return 'Forge FC'\n",
    "        elif 'hfx' in team_name:\n",
    "            return 'HFX Wanderers FC'\n",
    "        elif 'pac' in team_name:\n",
    "            return 'Pacific FC'\n",
    "        elif 'val' in team_name:\n",
    "            return 'Valour FC'\n",
    "        elif 'yrk' in team_name:\n",
    "            return 'York'\n",
    "        elif 'vfc' in team_name:\n",
    "            return 'Vancouver FC'\n",
    "\n",
    "tbody = table[0].find('tbody')\n",
    "players = []\n",
    "for tr in tbody.find_all('tr'):\n",
    "    row_data = tr.find_all('td')\n",
    "    player = [get_team_name(i.find_all('div')[0]['class']) if len(i.find_all('div')) > 0 else i.text for i in row_data]\n",
    "    players.append(player[2:])"
   ]
  },
  {
   "cell_type": "code",
   "execution_count": 4,
   "id": "04c61790",
   "metadata": {},
   "outputs": [],
   "source": [
    "import pandas as pd\n",
    "df = pd.DataFrame(players, columns=headers)\n",
    "df.to_excel(excel_filename)"
   ]
  }
 ],
 "metadata": {
  "kernelspec": {
   "display_name": "Python 3",
   "language": "python",
   "name": "python3"
  },
  "language_info": {
   "codemirror_mode": {
    "name": "ipython",
    "version": 3
   },
   "file_extension": ".py",
   "mimetype": "text/x-python",
   "name": "python",
   "nbconvert_exporter": "python",
   "pygments_lexer": "ipython3",
   "version": "3.11.3"
  }
 },
 "nbformat": 4,
 "nbformat_minor": 5
}
