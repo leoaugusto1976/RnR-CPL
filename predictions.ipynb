{
 "cells": [
  {
   "cell_type": "code",
   "execution_count": 2,
   "id": "6b144c0f-cc86-4a76-bdb2-0f01a8242d2b",
   "metadata": {
    "tags": []
   },
   "outputs": [
    {
     "data": {
      "text/plain": [
       "Index(['Team', 'id', 'GP', 'G', 'GC', 'GPM', 'S', 'ST', 'SH%', 'PG', 'HW',\n",
       "       'Year', 'Position'],\n",
       "      dtype='object')"
      ]
     },
     "execution_count": 2,
     "metadata": {},
     "output_type": "execute_result"
    }
   ],
   "source": [
    "import pandas as pd\n",
    "\n",
    "df_2019_attack = pd.read_excel('data/CPL_2019.xls', engine='xlrd', sheet_name=1)\n",
    "df_2020_attack = pd.read_excel('data/CPL_2020.xls', engine='xlrd', sheet_name=1)\n",
    "df_2021_attack = pd.read_excel('data/CPL_2021.xls', engine='xlrd', sheet_name=1)\n",
    "df_2022_attack = pd.read_excel('data/CPL_2022.xls', engine='xlrd', sheet_name=1)\n",
    "\n",
    "df_a = pd.concat([df_2019_attack, df_2020_attack, df_2021_attack, df_2022_attack])\n",
    "df_a.reset_index(drop=True)\n",
    "df_a.columns"
   ]
  },
  {
   "cell_type": "code",
   "execution_count": 3,
   "id": "991c24c3-7821-488c-9323-92e4418aeadd",
   "metadata": {
    "tags": []
   },
   "outputs": [
    {
     "name": "stdout",
     "output_type": "stream",
     "text": [
      "Predicted Positions for 2023:\n",
      "               Team  Predicted_Position\n",
      "0          Forge FC            0.552840\n",
      "2   Atlético Ottawa            3.147725\n",
      "3        Pacific FC            3.931579\n",
      "4         Valour FC            4.830587\n",
      "5       FC Edmonton            5.042581\n",
      "1        Cavalry FC            5.102289\n",
      "7  HFX Wanderers FC            6.490131\n",
      "6              York            6.576569\n"
     ]
    }
   ],
   "source": [
    "from sklearn.linear_model import LinearRegression\n",
    "\n",
    "# Prediciton based on attack\n",
    "df = df_a\n",
    "\n",
    "# Create a subset train_data by filtering rows in the DataFrame where the 'Year' column is not equal to 2022. This is used as training data for the model.\n",
    "train_data = df[df['Year'] != 2022]\n",
    "# Create another subset test_data by filtering rows in the DataFrame where the 'Year' column is equal to 2022. This will be used for testing and making predictions.\n",
    "test_data = df[df['Year'] == 2022]\n",
    "\n",
    "# Create a feature matrix X_train by selecting specific columns from the train_data DataFrame. \n",
    "# These columns are 'Year', 'G' (Goals), 'S' (Shots), 'ST' (Shots on Target), 'PG' (Penalty Goals), and 'HW' (Hit Woodwork).\n",
    "X_train = train_data[['Year', 'G', 'S', 'ST', 'PG', 'HW']]\n",
    "\n",
    "# Create a target variable y_train by selecting the 'Position' column from the train_data DataFrame. This represents the positions of the teams.\n",
    "y_train = train_data['Position']\n",
    "\n",
    "# Create a feature matrix X_test for the test data by selecting the same columns as in X_train.\n",
    "X_test = test_data[['Year', 'G', 'S', 'ST', 'PG', 'HW']]\n",
    "\n",
    "# Create a linear regression model\n",
    "model = LinearRegression()\n",
    "\n",
    "# Train the linear regression model using the training\n",
    "model.fit(X_train, y_train)\n",
    "\n",
    "# Use the trained model to make predictions for team positions in the 2023 season based on the test data, X_test.\n",
    "predicted_positions = model.predict(X_test)\n",
    "\n",
    "# Create a DataFrame to combine team names with predicted positions\n",
    "result_df = test_data[['Team']].copy()\n",
    "result_df['Predicted_Position'] = predicted_positions\n",
    "\n",
    "# Sort the DataFrame by predicted positions\n",
    "result_df = result_df.sort_values(by='Predicted_Position')\n",
    "\n",
    "# Now, result_df contains the team names along with their predicted positions\n",
    "print(\"Predicted Positions for 2023:\")\n",
    "print(result_df.sort_values(by=['Predicted_Position']))"
   ]
  },
  {
   "cell_type": "code",
   "execution_count": 5,
   "id": "86b0adb3",
   "metadata": {},
   "outputs": [
    {
     "data": {
      "text/plain": [
       "Index(['Team', 'id', 'GP', 'G', 'GC', 'GPM', 'S', 'ST', 'SH%', 'PG', 'HW',\n",
       "       'Year', 'Position', 'TPASS', 'PASS%', 'CC', 'UCC', 'CROSS%', 'CS',\n",
       "       'GC.1', 'GCM', 'INT', 'CLR', 'TW', 'TL', 'Off', 'TFW', 'TFC', 'YC',\n",
       "       'RC'],\n",
       "      dtype='object')"
      ]
     },
     "execution_count": 5,
     "metadata": {},
     "output_type": "execute_result"
    }
   ],
   "source": [
    "df_2019 = pd.read_excel('data/CPL_2019.xls', engine='xlrd', sheet_name=5)\n",
    "df_2020 = pd.read_excel('data/CPL_2020.xls', engine='xlrd', sheet_name=5)\n",
    "df_2021 = pd.read_excel('data/CPL_2021.xls', engine='xlrd', sheet_name=5)\n",
    "df_2022 = pd.read_excel('data/CPL_2022.xls', engine='xlrd', sheet_name=5)\n",
    "\n",
    "df = pd.concat([df_2019, df_2020, df_2021, df_2022])\n",
    "df.reset_index(drop=True)\n",
    "df.columns"
   ]
  },
  {
   "cell_type": "code",
   "execution_count": 6,
   "id": "2c980f34",
   "metadata": {},
   "outputs": [
    {
     "name": "stdout",
     "output_type": "stream",
     "text": [
      "Predicted Positions for 2023:\n",
      "               Team  Predicted_Position\n",
      "0          Forge FC            3.233944\n",
      "1        Cavalry FC            4.971955\n",
      "5       FC Edmonton            5.475266\n",
      "7  HFX Wanderers FC            6.490271\n",
      "3        Pacific FC            7.149474\n",
      "2   Atlético Ottawa            7.347247\n",
      "4         Valour FC            8.423477\n",
      "6              York            8.499349\n"
     ]
    }
   ],
   "source": [
    "from sklearn.linear_model import LinearRegression\n",
    "\n",
    "# Split the data\n",
    "train_data = df[df['Year'] != 2022]\n",
    "test_data = df[df['Year'] == 2022]\n",
    "\n",
    "# Create a feature matrix X_train for training data by selecting specific columns from the train_data DataFrame. \n",
    "# These columns are 'Year', 'G' (Goals), 'S' (Shots), 'ST' (Shots on Target), 'PG' (Penalty Goals), 'HW' (Hit Woodwork), \n",
    "# 'TPASS' (Total Passes), 'CC' (Cross and Corners), 'CS' (Clean Sheets), 'GC.1' (Goals Conceded), 'INT' (Interceptions), \n",
    "# 'CLR' (Clearances), 'TW' (Tackles Won), and 'TL' (Tackles Lost).\n",
    "X_train = train_data[['Year', 'G', 'S', 'ST', 'PG', 'HW', 'TPASS', 'CC', 'CS','GC.1', 'INT', 'CLR', 'TW', 'TL']]\n",
    "\n",
    "# Create a target variable y_train by selecting the 'Position' column from the train_data DataFrame. This represents the positions of the teams.\n",
    "y_train = train_data['Position']\n",
    "\n",
    "# Create a feature matrix X_test for the test data by selecting the same columns as in X_train.\n",
    "X_test = test_data[['Year', 'G', 'S', 'ST', 'PG', 'HW', 'TPASS', 'CC', 'CS','GC.1', 'INT', 'CLR', 'TW', 'TL']]\n",
    "\n",
    "# Create a linear regression model\n",
    "model = LinearRegression()\n",
    "\n",
    "# Train the linear regression model using the training data, X_train as features, and y_train as the target variable.\n",
    "model.fit(X_train, y_train)\n",
    "\n",
    "# Use the trained model to make predictions for team positions in the 2023 season based on the test data, X_test.\n",
    "predicted_positions = model.predict(X_test)\n",
    "\n",
    "# Create a DataFrame to combine team names with predicted positions\n",
    "result_df = test_data[['Team']].copy()\n",
    "result_df['Predicted_Position'] = predicted_positions\n",
    "\n",
    "# Sort the DataFrame by predicted positions\n",
    "result_df = result_df.sort_values(by='Predicted_Position')\n",
    "\n",
    "# Now, result_df contains the team names along with their predicted positions\n",
    "print(\"Predicted Positions for 2023:\")\n",
    "print(result_df.sort_values(by=['Predicted_Position']))"
   ]
  }
 ],
 "metadata": {
  "kernelspec": {
   "display_name": "Python 3 (ipykernel)",
   "language": "python",
   "name": "python3"
  },
  "language_info": {
   "codemirror_mode": {
    "name": "ipython",
    "version": 3
   },
   "file_extension": ".py",
   "mimetype": "text/x-python",
   "name": "python",
   "nbconvert_exporter": "python",
   "pygments_lexer": "ipython3",
   "version": "3.11.3"
  }
 },
 "nbformat": 4,
 "nbformat_minor": 5
}
